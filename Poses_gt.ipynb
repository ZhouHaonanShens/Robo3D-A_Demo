{
 "cells": [
  {
   "cell_type": "code",
   "execution_count": null,
   "outputs": [],
   "source": [
    "import os\n",
    "import cv2\n",
    "import glob\n",
    "import json\n",
    "import tqdm\n",
    "import numpy as np\n",
    "from scipy.spatial.transform import Slerp, Rotation\n",
    "import trimesh\n",
    "import torch"
   ],
   "metadata": {
    "collapsed": false
   }
  },
  {
   "cell_type": "code",
   "execution_count": null,
   "outputs": [],
   "source": [
    "def generate_poses(thetas, phis, device, radius=1):\n",
    "    \"\"\" generate poses from an orbit camera\n",
    "    Args:\n",
    "        size: batch size of generated poses.\n",
    "        device: where to allocate the output.\n",
    "        radius: camera radius\n",
    "        thetas: [min, max], should be in [0, \\pi]\n",
    "        phis: [min, max], should be in [0, 2\\pi]\n",
    "    Return:\n",
    "        poses: [size, 4, 4]\n",
    "    \"\"\"\n",
    "    size = thetas.shape[0]\n",
    "\n",
    "    def normalize(vectors):\n",
    "        return vectors / (torch.norm(vectors, dim=-1, keepdim=True) + 1e-10)\n",
    "\n",
    "    centers = torch.stack([\n",
    "        radius * torch.sin(thetas) * torch.sin(phis),\n",
    "        radius * torch.cos(thetas),\n",
    "        radius * torch.sin(thetas) * torch.cos(phis),\n",
    "    ], dim=-1) # [B, 3]\n",
    "\n",
    "    # lookat\n",
    "    forward_vector = - normalize(centers)\n",
    "    up_vector = torch.DoubleTensor([0, -1, 0]).to(device).unsqueeze(0).repeat(size, 1) # confused at the coordinate system...\n",
    "    right_vector = normalize(torch.cross(forward_vector, up_vector, dim=-1))\n",
    "    up_vector = normalize(torch.cross(right_vector, forward_vector, dim=-1))\n",
    "\n",
    "    poses = torch.eye(4, dtype=torch.float, device=device).unsqueeze(0).repeat(size, 1, 1)\n",
    "    poses[:, :3, :3] = torch.stack((right_vector, up_vector, forward_vector), dim=-1)\n",
    "    poses[:, :3, 3] = centers\n",
    "\n",
    "    return poses\n"
   ],
   "metadata": {
    "collapsed": false
   }
  },
  {
   "cell_type": "code",
   "execution_count": null,
   "outputs": [],
   "source": [
    "t_device = torch.device('cuda' if torch.cuda.is_available() else 'cpu')"
   ],
   "metadata": {
    "collapsed": false
   }
  },
  {
   "cell_type": "code",
   "execution_count": null,
   "outputs": [],
   "source": [
    "num_frames = 150\n",
    "t_phis = torch.tensor(np.array(np.arange(2*np.pi, 0, -(np.pi/num_frames)*2)), device=t_device, dtype=torch.double)\n",
    "t_theta = torch.tensor(np.pi*(1.0/3.0), dtype=torch.double)\n",
    "t_thetas = torch.ones_like(t_phis, dtype=torch.double, device=t_device) * t_theta\n",
    "# t_radius = torch.ones_like(t_phis, dtype=torch.double, device=t_device) * 3.5 * (0.45/0.55)\n",
    "t_radius = torch.ones_like(t_phis, dtype=torch.double, device=t_device) * 3.5"
   ],
   "metadata": {
    "collapsed": false
   }
  },
  {
   "cell_type": "markdown",
   "source": [
    "decay_first = 1.0\n",
    "decay_end = 0.6\n",
    "decay_step = (decay_first - decay_end)/num_frames\n",
    "decay = torch.tensor(np.array(np.arange(decay_first, decay_end, -decay_step)), device=t_device, dtype=torch.double)\n",
    "t_radius *= decay"
   ],
   "metadata": {
    "collapsed": false
   }
  },
  {
   "cell_type": "code",
   "execution_count": null,
   "outputs": [],
   "source": [
    "poses = generate_poses(t_thetas, t_phis, t_device, t_radius)"
   ],
   "metadata": {
    "collapsed": false
   }
  },
  {
   "cell_type": "code",
   "execution_count": null,
   "outputs": [],
   "source": [
    "exp_name = 'HZ0307_55online'\n",
    "test_original_path = os.path.join('./data', exp_name, 'transforms_test_original.json')\n",
    "json_file = 'transforms_test_original.json' if os.path.isfile(test_original_path) else 'transforms_test.json'\n",
    "data_path = os.path.join('./data', exp_name, json_file)\n",
    "fp = open(data_path, 'r')\n",
    "data = json.load(fp)\n",
    "fp.close()\n",
    "frame = data['frames'][0]\n",
    "new_frames = []"
   ],
   "metadata": {
    "collapsed": false
   }
  },
  {
   "cell_type": "code",
   "execution_count": null,
   "outputs": [],
   "source": [
    "class NpEncoder(json.JSONEncoder):\n",
    "    def default(self, obj):\n",
    "        if isinstance(obj, np.integer):\n",
    "            return int(obj)\n",
    "        if isinstance(obj, np.floating):\n",
    "            return float(obj)\n",
    "        if isinstance(obj, np.ndarray):\n",
    "            return obj.tolist()\n",
    "        return super(NpEncoder, self).default(obj)"
   ],
   "metadata": {
    "collapsed": false
   }
  },
  {
   "cell_type": "code",
   "execution_count": null,
   "outputs": [],
   "source": [
    "def ngp_matrix_to_nerf(pose):\n",
    "    # for the fox dataset, 0.33 scales camera radius to ~ 2\n",
    "    new_pose = np.array([\n",
    "        [pose[2, 0], -pose[2, 1], -pose[2, 2], pose[2, 3]],\n",
    "        [pose[0, 0], -pose[0, 1], -pose[0, 2], pose[0, 3]],\n",
    "        [pose[1, 0], -pose[1, 1], -pose[1, 2], pose[1, 3]],\n",
    "        [0, 0, 0, 1],\n",
    "    ], dtype=np.float32)\n",
    "    # new_pose = pose\n",
    "    return new_pose"
   ],
   "metadata": {
    "collapsed": false
   }
  },
  {
   "cell_type": "code",
   "execution_count": null,
   "outputs": [],
   "source": [
    "from copy import deepcopy\n",
    "for pose in poses:\n",
    "    f = deepcopy(frame)\n",
    "    f['transform_matrix'] = ngp_matrix_to_nerf(pose.cpu().numpy())\n",
    "    new_frames.append(f)"
   ],
   "metadata": {
    "collapsed": false
   }
  },
  {
   "cell_type": "code",
   "execution_count": null,
   "outputs": [],
   "source": [
    "data['frames'] = new_frames"
   ],
   "metadata": {
    "collapsed": false
   }
  },
  {
   "cell_type": "code",
   "execution_count": null,
   "outputs": [],
   "source": [
    "with open(os.path.join('./data', exp_name, 'transforms_test.json'), 'w') as fp:\n",
    "    json.dump(data, fp=fp, sort_keys=False, indent=2, cls=NpEncoder)"
   ],
   "metadata": {
    "collapsed": false
   }
  },
  {
   "cell_type": "code",
   "execution_count": null,
   "outputs": [],
   "source": [],
   "metadata": {
    "collapsed": false
   }
  }
 ],
 "metadata": {
  "kernelspec": {
   "display_name": "Python 3",
   "language": "python",
   "name": "python3"
  },
  "language_info": {
   "codemirror_mode": {
    "name": "ipython",
    "version": 2
   },
   "file_extension": ".py",
   "mimetype": "text/x-python",
   "name": "python",
   "nbconvert_exporter": "python",
   "pygments_lexer": "ipython2",
   "version": "2.7.6"
  }
 },
 "nbformat": 4,
 "nbformat_minor": 0
}
