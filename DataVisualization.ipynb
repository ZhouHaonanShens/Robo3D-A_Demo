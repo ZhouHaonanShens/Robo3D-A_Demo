{
 "cells": [
  {
   "cell_type": "code",
   "execution_count": 1,
   "metadata": {
    "collapsed": true
   },
   "outputs": [],
   "source": [
    "import os\n",
    "import cv2\n",
    "import glob\n",
    "import json\n",
    "import tqdm\n",
    "import numpy as np\n",
    "from matplotlib import pyplot as plt\n",
    "from scipy.spatial.transform import Slerp, Rotation\n",
    "import trimesh\n",
    "import torch"
   ]
  },
  {
   "cell_type": "code",
   "execution_count": 2,
   "outputs": [],
   "source": [
    "exp_name = 'HZJ0310_45'\n",
    "test_original_path = os.path.join('./data2', exp_name, 'transforms_train.json')\n",
    "json_file = 'transforms_train.json' if os.path.isfile(test_original_path) else 'transforms_test.json'\n",
    "pose_file = 'pose.npy'\n",
    "pose_path = os.path.join('./data2', exp_name, 'train', pose_file)\n",
    "data_path = os.path.join('./data2', exp_name, json_file)\n",
    "fp = open(data_path, 'r')\n",
    "data = json.load(fp)\n",
    "fp.close()\n",
    "frames = data['frames']"
   ],
   "metadata": {
    "collapsed": false
   }
  },
  {
   "cell_type": "code",
   "execution_count": 5,
   "outputs": [
    {
     "name": "stdout",
     "output_type": "stream",
     "text": [
      "Mean radius: 0.5402\n"
     ]
    }
   ],
   "source": [
    "np_pose = np.load(pose_path)\n",
    "\n",
    "locs = np_pose[:, :3, -1]\n",
    "radius = []\n",
    "for i in range(len(locs)):\n",
    "    r = np.sqrt(locs[0]**2 + locs[1]**2 + locs[2]**2)\n",
    "    radius.append(r)\n",
    "print(f\"Mean radius: {np.mean(radius):.4f}\")"
   ],
   "metadata": {
    "collapsed": false
   }
  },
  {
   "cell_type": "code",
   "execution_count": 11,
   "outputs": [
    {
     "data": {
      "text/plain": "<Figure size 640x480 with 1 Axes>",
      "image/png": "[encoded data removed]"
     },
     "metadata": {},
     "output_type": "display_data"
    }
   ],
   "source": [
    "for f in frames:\n",
    "    # depth_path = os.path.join('./data', exp_name, f['file_path'][:-4] + \"_depth.npy\")\n",
    "    depth_path = os.path.join('./data2', exp_name, f['file_path'][:-4] + \"_depth.npy\")\n",
    "    depth_np = None\n",
    "    if os.path.exists(depth_path):\n",
    "        depth_np = np.load(depth_path)\n",
    "        plt.imshow(depth_np, cmap='gray', interpolation='nearest')\n",
    "        # plt.show()\n",
    "\n",
    "plt.show()"
   ],
   "metadata": {
    "collapsed": false
   }
  },
  {
   "cell_type": "code",
   "execution_count": 15,
   "outputs": [],
   "source": [
    "depth_np[depth_np>3] = 3"
   ],
   "metadata": {
    "collapsed": false
   }
  },
  {
   "cell_type": "code",
   "execution_count": 16,
   "outputs": [
    {
     "name": "stdout",
     "output_type": "stream",
     "text": [
      "82577\n"
     ]
    }
   ],
   "source": [
    "print(np.argmax(depth_np))"
   ],
   "metadata": {
    "collapsed": false
   }
  },
  {
   "cell_type": "code",
   "execution_count": 5,
   "outputs": [],
   "source": [
    "for f in frames:\n",
    "    depth_path = os.path.join('./data', exp_name, f['file_path'][:-4] + \"_depth.png\")\n",
    "    depth_np = None\n",
    "    if os.path.exists(depth_path):\n",
    "        depth_np = plt.imread(depth_path)\n",
    "        plt.imshow(depth_np, cmap='gray', interpolation='nearest')\n",
    "        plt.show()"
   ],
   "metadata": {
    "collapsed": false
   }
  },
  {
   "cell_type": "code",
   "execution_count": null,
   "outputs": [],
   "source": [
    "data_path = os.path.join('./data', 'output_monodepth')\n",
    "output_path = os.path.join('./data', 'DPTDepth')\n",
    "max_depth = 15.0\n",
    "for i in range(159):\n",
    "    fig_path = os.path.join(data_path, f\"img_{i:03d}.png\")\n",
    "    depth_img = plt.imread(fig_path)\n",
    "    depth_img[depth_img<1.0/max_depth] = 1.0/max_depth\n",
    "    depth_img = np.reciprocal(depth_img)\n",
    "    depth_img[depth_img > max_depth] = 0\n",
    "    depth_img = depth_img/(6*1.2)\n",
    "    plt.imshow(depth_img, cmap='hot', interpolation='nearest')\n",
    "    os.makedirs(output_path, exist_ok=True)\n",
    "    np.save(os.path.join(output_path, f\"img_{i:03d}_depth.npy\"), depth_img)\n",
    "    # plt.show()\n",
    "    # print(fig_path)"
   ],
   "metadata": {
    "collapsed": false
   }
  },
  {
   "cell_type": "code",
   "execution_count": null,
   "outputs": [],
   "source": [
    "data_path = os.path.join('./data', 'outputd_depth')\n",
    "for i in range(1, 15):\n",
    "    fig_path = os.path.join(data_path, f\"ngp_ep0100_{i:04d}_depth.png\")\n",
    "    depth_img = plt.imread(fig_path)\n",
    "    plt.show()"
   ],
   "metadata": {
    "collapsed": false
   }
  },
  {
   "cell_type": "code",
   "execution_count": null,
   "outputs": [],
   "source": [
    "workspace = '/home/chow/RoboNGP/HZWorkspace'\n",
    "wexp_name = 'HZ0307_img_online2'\n",
    "\n",
    "wval_path = os.path.join(workspace, wexp_name, 'validation')\n",
    "idx = 1\n",
    "ep = 150\n",
    "wdep_name = f'ngp_ep{ep:04d}_{idx:04d}_depth.png'\n",
    "wdep_path = os.path.join(wval_path, wdep_name)\n"
   ],
   "metadata": {
    "collapsed": false
   }
  },
  {
   "cell_type": "code",
   "execution_count": null,
   "outputs": [],
   "source": [
    "wdep = plt.imread(wdep_path)"
   ],
   "metadata": {
    "collapsed": false
   }
  },
  {
   "cell_type": "code",
   "execution_count": null,
   "outputs": [],
   "source": [
    "H = 480\n",
    "W = 640\n",
    "window = 10\n",
    "int(H/2-window)\n",
    "mean_dpt = np.mean(depth_img[int(H/2-window):int(H/2+window), int(W/2-window):int(W/2+window)])\n",
    "mean_w = np.mean(wdep[int(H/2-window):int(H/2+window), int(W/2-window):int(W/2+window)])\n",
    "print(mean_dpt/mean_w)\n",
    "print((0.92 / 0.55))"
   ],
   "metadata": {
    "collapsed": false
   }
  },
  {
   "cell_type": "code",
   "execution_count": null,
   "outputs": [],
   "source": [],
   "metadata": {
    "collapsed": false
   }
  }
 ],
 "metadata": {
  "kernelspec": {
   "display_name": "Python 3",
   "language": "python",
   "name": "python3"
  },
  "language_info": {
   "codemirror_mode": {
    "name": "ipython",
    "version": 2
   },
   "file_extension": ".py",
   "mimetype": "text/x-python",
   "name": "python",
   "nbconvert_exporter": "python",
   "pygments_lexer": "ipython2",
   "version": "2.7.6"
  }
 },
 "nbformat": 4,
 "nbformat_minor": 0
}
