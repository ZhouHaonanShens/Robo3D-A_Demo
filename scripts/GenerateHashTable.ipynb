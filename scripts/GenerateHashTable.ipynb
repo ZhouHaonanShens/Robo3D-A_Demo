{
 "cells": [
  {
   "cell_type": "code",
   "execution_count": 1,
   "metadata": {
    "collapsed": true
   },
   "outputs": [],
   "source": [
    "import json\n",
    "import os\n",
    "from copy import deepcopy\n",
    "\n",
    "import numpy as np\n",
    "from tqdm import tqdm"
   ]
  },
  {
   "cell_type": "code",
   "execution_count": 2,
   "outputs": [],
   "source": [
    "exp_name = 'YL_MK1'\n",
    "num_in_thetas = [15, 72, 72]\n",
    "theta_list = [60, 54, 66]\n",
    "\n",
    "hashtable={}"
   ],
   "metadata": {
    "collapsed": false
   }
  },
  {
   "cell_type": "code",
   "execution_count": 3,
   "outputs": [],
   "source": [
    "data_path = os.path.join('../data2', exp_name, 'transforms_train_all.json')\n",
    "\n",
    "json_file = 'transforms_train_all.json' if os.path.isfile(data_path) else 'transforms_train.json'\n",
    "\n",
    "data_path = os.path.join('../data2', exp_name, json_file)\n",
    "fp = open(data_path, 'r')\n",
    "data = json.load(fp)\n",
    "fp.close()"
   ],
   "metadata": {
    "collapsed": false
   }
  },
  {
   "cell_type": "code",
   "execution_count": 4,
   "outputs": [],
   "source": [
    "for i, theta in enumerate(theta_list):\n",
    "    interval = int(360/num_in_thetas[i])\n",
    "    for idx in range(num_in_thetas[i]):\n",
    "        hashtable[theta*1000 + interval*idx] = idx + sum(b for b in num_in_thetas[:i])\n"
   ],
   "metadata": {
    "collapsed": false
   }
  },
  {
   "cell_type": "code",
   "execution_count": 5,
   "outputs": [],
   "source": [
    "data['hashtable'] = hashtable"
   ],
   "metadata": {
    "collapsed": false
   }
  },
  {
   "cell_type": "code",
   "execution_count": 6,
   "outputs": [],
   "source": [
    "with open(os.path.join('../data2', exp_name, 'transforms_train_all.json'), 'w') as fp:\n",
    "    json.dump(data, fp=fp, sort_keys=False, indent=2)"
   ],
   "metadata": {
    "collapsed": false
   }
  },
  {
   "cell_type": "code",
   "execution_count": 6,
   "outputs": [],
   "source": [],
   "metadata": {
    "collapsed": false
   }
  },
  {
   "cell_type": "code",
   "execution_count": 6,
   "outputs": [],
   "source": [],
   "metadata": {
    "collapsed": false
   }
  }
 ],
 "metadata": {
  "kernelspec": {
   "display_name": "Python 3",
   "language": "python",
   "name": "python3"
  },
  "language_info": {
   "codemirror_mode": {
    "name": "ipython",
    "version": 2
   },
   "file_extension": ".py",
   "mimetype": "text/x-python",
   "name": "python",
   "nbconvert_exporter": "python",
   "pygments_lexer": "ipython2",
   "version": "2.7.6"
  }
 },
 "nbformat": 4,
 "nbformat_minor": 0
}
